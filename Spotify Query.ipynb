{
 "cells": [
  {
   "cell_type": "code",
   "execution_count": null,
   "metadata": {
    "ExecuteTime": {
     "end_time": "2018-09-16T22:21:30.716520Z",
     "start_time": "2018-09-16T22:21:30.098216Z"
    }
   },
   "outputs": [],
   "source": [
    "import spotipy\n",
    "from spotipy.oauth2 import SpotifyClientCredentials\n",
    "import json\n",
    "import pandas as pd\n",
    "import users\n",
    "\n",
    "cid = \"4acff433ba4c4b1e97a5cacdb6358f52\"\n",
    "secret = \"bcd9bc8e6123468085c44fa911a613ad\"\n",
    "for name in users.user_list:\n",
    "    username = name\n",
    "    print(username)\n",
    "    \n",
    "client_credentials_manager = SpotifyClientCredentials(cid, secret)\n",
    "sp = spotipy.Spotify(client_credentials_manager=client_credentials_manager)\n",
    "username = \"klinga88\"\n"
   ]
  },
  {
   "cell_type": "code",
   "execution_count": 7,
   "metadata": {
    "ExecuteTime": {
     "end_time": "2018-09-16T23:02:48.289592Z",
     "start_time": "2018-09-16T23:02:48.257676Z"
    }
   },
   "outputs": [
    {
     "data": {
      "text/html": [
       "<div>\n",
       "<style scoped>\n",
       "    .dataframe tbody tr th:only-of-type {\n",
       "        vertical-align: middle;\n",
       "    }\n",
       "\n",
       "    .dataframe tbody tr th {\n",
       "        vertical-align: top;\n",
       "    }\n",
       "\n",
       "    .dataframe thead th {\n",
       "        text-align: right;\n",
       "    }\n",
       "</style>\n",
       "<table border=\"1\" class=\"dataframe\">\n",
       "  <thead>\n",
       "    <tr style=\"text-align: right;\">\n",
       "      <th></th>\n",
       "      <th>Position</th>\n",
       "      <th>Track Name</th>\n",
       "      <th>Artist</th>\n",
       "      <th>Streams</th>\n",
       "      <th>URL</th>\n",
       "    </tr>\n",
       "  </thead>\n",
       "  <tbody>\n",
       "    <tr>\n",
       "      <th>0</th>\n",
       "      <td>1</td>\n",
       "      <td>I Love It (&amp; Lil Pump)</td>\n",
       "      <td>Kanye West</td>\n",
       "      <td>4989832</td>\n",
       "      <td>https://open.spotify.com/track/4S8d14HvHb70Imc...</td>\n",
       "    </tr>\n",
       "    <tr>\n",
       "      <th>1</th>\n",
       "      <td>2</td>\n",
       "      <td>In My Feelings</td>\n",
       "      <td>Drake</td>\n",
       "      <td>3842246</td>\n",
       "      <td>https://open.spotify.com/track/2G7V7zsVDxg1yRs...</td>\n",
       "    </tr>\n",
       "    <tr>\n",
       "      <th>2</th>\n",
       "      <td>3</td>\n",
       "      <td>Lucky You (feat. Joyner Lucas)</td>\n",
       "      <td>Eminem</td>\n",
       "      <td>3673656</td>\n",
       "      <td>https://open.spotify.com/track/60SdxE8apGAxMiR...</td>\n",
       "    </tr>\n",
       "    <tr>\n",
       "      <th>3</th>\n",
       "      <td>4</td>\n",
       "      <td>Promises (with Sam Smith)</td>\n",
       "      <td>Calvin Harris</td>\n",
       "      <td>3491483</td>\n",
       "      <td>https://open.spotify.com/track/5N5k9nd479b1xpD...</td>\n",
       "    </tr>\n",
       "    <tr>\n",
       "      <th>4</th>\n",
       "      <td>5</td>\n",
       "      <td>Eastside (with Halsey &amp; Khalid)</td>\n",
       "      <td>benny blanco</td>\n",
       "      <td>3452605</td>\n",
       "      <td>https://open.spotify.com/track/0d2iYfpKoM0QCKv...</td>\n",
       "    </tr>\n",
       "  </tbody>\n",
       "</table>\n",
       "</div>"
      ],
      "text/plain": [
       "   Position                       Track Name         Artist  Streams  \\\n",
       "0         1           I Love It (& Lil Pump)     Kanye West  4989832   \n",
       "1         2                   In My Feelings          Drake  3842246   \n",
       "2         3   Lucky You (feat. Joyner Lucas)         Eminem  3673656   \n",
       "3         4        Promises (with Sam Smith)  Calvin Harris  3491483   \n",
       "4         5  Eastside (with Halsey & Khalid)   benny blanco  3452605   \n",
       "\n",
       "                                                 URL  \n",
       "0  https://open.spotify.com/track/4S8d14HvHb70Imc...  \n",
       "1  https://open.spotify.com/track/2G7V7zsVDxg1yRs...  \n",
       "2  https://open.spotify.com/track/60SdxE8apGAxMiR...  \n",
       "3  https://open.spotify.com/track/5N5k9nd479b1xpD...  \n",
       "4  https://open.spotify.com/track/0d2iYfpKoM0QCKv...  "
      ]
     },
     "execution_count": 7,
     "metadata": {},
     "output_type": "execute_result"
    }
   ],
   "source": [
    "file = pd.read_csv(\"music.csv\",encoding='latin1', skiprows=1)\n",
    "file.head()"
   ]
  },
  {
   "cell_type": "code",
   "execution_count": null,
   "metadata": {
    "ExecuteTime": {
     "end_time": "2018-09-14T17:11:39.926245Z",
     "start_time": "2018-09-14T17:11:39.653978Z"
    }
   },
   "outputs": [],
   "source": [
    "playlists = sp.user_playlists(username)\n",
    "my_playlists = {}\n",
    "while playlists:\n",
    "    for i, playlist in enumerate(playlists['items']):\n",
    "        playlist_owner = playlist[\"uri\"].split(\":\")[2]\n",
    "        playlist_name = playlist['name']\n",
    "        playlist_id = playlist[\"uri\"].split(\":\")[4]\n",
    "        if playlist_owner == username:\n",
    "            my_playlists[playlist_name] = playlist_id\n",
    "    if playlists['next']:\n",
    "        playlists = sp.next(playlists)\n",
    "    else:\n",
    "        playlists = None\n",
    "        \n",
    "print(json.dumps(my_playlists, indent=4))"
   ]
  },
  {
   "cell_type": "code",
   "execution_count": null,
   "metadata": {
    "ExecuteTime": {
     "end_time": "2018-09-08T15:33:26.557777Z",
     "start_time": "2018-09-08T15:33:26.353303Z"
    }
   },
   "outputs": [],
   "source": [
    "#get tracks in each playlist\n",
    "songs = []\n",
    "sp_playlist = sp.user_playlist_tracks(username, playlist_id=\"0qRjzddROXVAy1sxiOfwcr\")\n",
    "tracks = sp_playlist['items']\n",
    "print(json.dumps(tracks, indent=4))"
   ]
  },
  {
   "cell_type": "code",
   "execution_count": null,
   "metadata": {
    "ExecuteTime": {
     "end_time": "2018-09-08T15:33:27.720359Z",
     "start_time": "2018-09-08T15:33:27.712726Z"
    }
   },
   "outputs": [],
   "source": [
    "\n",
    "\n",
    "print(f\"length of playlist: {len(tracks)}\")\n",
    "#get each song, song URI, artist, artist URI, album, album URI, album img url\n",
    "for i in range(len(tracks)):\n",
    "    try:\n",
    "        song_name = tracks[i][\"track\"][\"name\"]\n",
    "        song_uri = tracks[i][\"track\"][\"uri\"]\n",
    "        artist_name = tracks[i][\"track\"][\"artists\"][0][\"name\"]# @TODO Update to get all artists on track not just first \n",
    "        artist_uri = tracks[i][\"track\"][\"artists\"][0][\"uri\"]\n",
    "        album_name = tracks[i][\"track\"][\"album\"][\"name\"]\n",
    "        album_uri = tracks[i][\"track\"][\"album\"][\"uri\"]\n",
    "        album_img = tracks[i][\"track\"][\"album\"][\"images\"][0][\"url\"]\n",
    "        popularity = tracks[i][\"track\"][\"popularity\"]\n",
    "        songs.append([song_name,song_uri,artist_name,artist_uri,album_name,album_uri,album_img,popularity])\n",
    "    except Exception as e:\n",
    "        print(f\"Exception on track number {i}, {e}\")\n",
    "print(json.dumps(songs,indent=4))"
   ]
  },
  {
   "cell_type": "code",
   "execution_count": null,
   "metadata": {
    "ExecuteTime": {
     "end_time": "2018-09-08T15:33:28.932826Z",
     "start_time": "2018-09-08T15:33:28.919863Z"
    }
   },
   "outputs": [],
   "source": [
    "#create dataframe\n",
    "df_tracks = pd.DataFrame(songs, columns=[\"song_name\", \"song_uri\", \"artist_name\",\"artist_uri\",\"album_name\",\"album_uri\",\"album_img\",\"album_popularity\"])\n",
    "df_tracks.groupby([\"artist_name\"])[\"album_popularity\"].mean().sort_values()"
   ]
  },
  {
   "cell_type": "code",
   "execution_count": null,
   "metadata": {
    "ExecuteTime": {
     "end_time": "2018-09-08T15:33:43.843460Z",
     "start_time": "2018-09-08T15:33:36.615715Z"
    }
   },
   "outputs": [],
   "source": [
    "track_ids = df_tracks[\"song_uri\"]\n",
    "track_features = []\n",
    "for track in track_ids:\n",
    "    track = track.split(\":\")[2]\n",
    "    track_features.append(sp.audio_features(track))\n",
    "    \n",
    "print(json.dumps(track_features, indent=4))"
   ]
  },
  {
   "cell_type": "code",
   "execution_count": null,
   "metadata": {
    "ExecuteTime": {
     "end_time": "2018-09-08T15:33:43.993075Z",
     "start_time": "2018-09-08T15:33:43.854429Z"
    }
   },
   "outputs": [],
   "source": [
    "features = pd.DataFrame(track_features, columns=[\"danceability\"])\n",
    "features.head()\n",
    "#@TODO Add radar overlaying each song from a playlist"
   ]
  },
  {
   "cell_type": "code",
   "execution_count": null,
   "metadata": {},
   "outputs": [],
   "source": [
    "\n"
   ]
  }
 ],
 "metadata": {
  "kernelspec": {
   "display_name": "Python 3",
   "language": "python",
   "name": "python3"
  },
  "language_info": {
   "codemirror_mode": {
    "name": "ipython",
    "version": 3
   },
   "file_extension": ".py",
   "mimetype": "text/x-python",
   "name": "python",
   "nbconvert_exporter": "python",
   "pygments_lexer": "ipython3",
   "version": "3.6.5"
  }
 },
 "nbformat": 4,
 "nbformat_minor": 2
}
