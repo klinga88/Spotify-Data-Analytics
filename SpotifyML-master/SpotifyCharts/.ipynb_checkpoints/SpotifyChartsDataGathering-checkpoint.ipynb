{
 "cells": [
  {
   "cell_type": "code",
   "execution_count": 36,
   "metadata": {},
   "outputs": [],
   "source": [
    "import requests\n",
    "import csv\n",
    "import pandas as pd\n",
    "from datetime import timedelta, date\n",
    "import os\n",
    "\n",
    "def daterange(start_date, end_date):\n",
    "    for n in range(int ((end_date - start_date).days)):\n",
    "        yield start_date + timedelta(n)\n",
    "        \n",
    "def download_file(url):\n",
    "    local_filename = url.split('/')[-2] + '.csv'\n",
    "    # NOTE the stream=True parameter\n",
    "    r = requests.get(url, stream=True)\n",
    "    with open(local_filename, 'wb') as f:\n",
    "        for chunk in r.iter_content(chunk_size=1024): \n",
    "            if chunk:\n",
    "                f.write(chunk)\n",
    "                \n",
    "    append_date_to_row(local_filename, url.split('/')[-2])\n",
    "    \n",
    "    remove_file(local_filename)\n",
    "    \n",
    "    return local_filename\n",
    "\n",
    "def remove_file(filename):\n",
    "    os.remove(filename)\n",
    "\n",
    "def append_date_to_row(filename, date):\n",
    "    csv_input = pd.read_csv(filename)\n",
    "    csv_input['Date'] = date\n",
    "    with open('data/Top_200_2017.csv', 'a') as f:\n",
    "        csv_input.to_csv(f, header=False)\n",
    "        "
   ]
  },
  {
   "cell_type": "code",
   "execution_count": 37,
   "metadata": {},
   "outputs": [],
   "source": [
    "start_date = date(2017, 12, 15)\n",
    "end_date = date(2018, 1, 1)\n",
    "for single_date in daterange(start_date, end_date):\n",
    "    date = single_date.strftime(\"%Y-%m-%d\")\n",
    "    download_file('https://spotifycharts.com/regional/global/daily/'+date+'/download')"
   ]
  },
  {
   "cell_type": "code",
   "execution_count": 38,
   "metadata": {},
   "outputs": [],
   "source": [
    "#Cleaning up data, make sure columns dont replace first song.....\n",
    "csv_input = pd.read_csv('data/Top_200_2017.csv')\n",
    "csv_input.columns = ['badPosition', 'Position', 'Track Name', 'Artist', 'Streams', 'URL', 'Date']\n",
    "csv_input.to_csv('test.csv')\n",
    "\n",
    "#f = pd.read_csv('data/Top_200_2017.csv')\n",
    "#keep_col = ['Position', 'Track Name', 'Artist', 'Streams', 'URL', 'Date']\n",
    "#new_f = f[keep_col]\n",
    "#new_f.to_csv(\"data/Top_200_2017.csv\", index=False)"
   ]
  }
 ],
 "metadata": {
  "kernelspec": {
   "display_name": "Python 3",
   "language": "python",
   "name": "python3"
  },
  "language_info": {
   "codemirror_mode": {
    "name": "ipython",
    "version": 3
   },
   "file_extension": ".py",
   "mimetype": "text/x-python",
   "name": "python",
   "nbconvert_exporter": "python",
   "pygments_lexer": "ipython3",
   "version": "3.5.2"
  }
 },
 "nbformat": 4,
 "nbformat_minor": 2
}
