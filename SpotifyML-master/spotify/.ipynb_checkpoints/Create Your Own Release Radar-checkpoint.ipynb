{
 "cells": [
  {
   "cell_type": "code",
   "execution_count": 72,
   "metadata": {},
   "outputs": [],
   "source": [
    "import spotipy\n",
    "import queue\n",
    "import spotipy.util as util\n",
    "from time import sleep\n",
    "sp = spotipy.Spotify() \n",
    "q = queue.Queue()"
   ]
  },
  {
   "cell_type": "code",
   "execution_count": 73,
   "metadata": {
    "scrolled": true
   },
   "outputs": [],
   "source": [
    "scope = 'playlist-modify-private playlist-modify-public playlist-read-private user-library-read'\n",
    "# scope = 'user-read-playback-state'\n",
    "# works as well\n",
    "\n",
    "token = util.prompt_for_user_token(\"username\", scope, client_id=\"0eefcdafe36f4f409e66451029dce207\", client_secret=\"5f8dad780efc410ababb866c21483c6c\")\n",
    "\n",
    "spotify = spotipy.Spotify(auth=token)"
   ]
  },
  {
   "cell_type": "code",
   "execution_count": 13,
   "metadata": {
    "scrolled": true
   },
   "outputs": [
    {
     "name": "stdout",
     "output_type": "stream",
     "text": [
      "{'Clean Bandit', 'KYKO', 'BANNERS', 'Gryffin', 'Brave Shores', 'Highly Suspect', 'Porter Robinson', 'Møme', 'Adam Jensen', 'Twin Forks', 'Robert DeLong', 'Thousand Foot Krutch', 'Andrew Luce', 'MIIA', 'Grizfolk', 'Chairlift', 'A R I Z O N A', 'Daya', 'ADHDS', 'Salvatore Ganacci', 'Sara Hartman', 'Woolf and the Wondershow', 'Marcy Playground', 'Amber Run', 'Kap Slap', 'Britt Nicole', 'Dabin', 'Ellie Goulding', 'The Griswolds', 'Embody', 'Oh Honey', 'Marshmello', 'Hopium', 'Five Knives', 'Glass Animals', 'Fareoh', 'ATO', 'Andy Grammer', 'Daughter', 'George Ezra', 'Em Harriss', 'KYLE', 'The Naked And Famous', 'This Century', 'Danrell x Småland', 'Castlecomer', 'Foo Fighters', 'Cosmos & Creature', 'Against The Current', 'Andrew McMahon in the Wilderness', 'OneRepublic', 'Opia', 'gnash', 'Layla', 'The Neighbourhood', 'Elohim', \"Can't Stop Won't Stop\", 'Fever Fever', 'Tep No', 'Omar LinX', 'Cherri Bomb', 'Arty', 'Dua Lipa', 'VÉRITÉ', 'Wrabel', 'Passion Pit', 'Tribe Society', 'BOY', 'Ed Sheeran', 'Angels & Airwaves', 'The Kooks', 'Young the Giant', 'Magic Man', 'Ex Cops', 'Mary Lambert', 'Gabrielle Aplin', 'Zoo Legacy', 'Family and Friends', 'AViVA', 'Kodaline', 'Echos', 'Ivory Layne', 'Gardiner Sisters', 'The Civil Wars', 'Years & Years', 'Steve Void', 'Dillistone', 'Jeremy Zucker', 'Wild Cub', 'Xan Griffin', 'The Maine', 'Butch Walker and The Black Widows', 'We The Kings', 'flor', 'Rock Mafia', 'Selena Gomez', 'Phoebe Ryan', 'Steve Aoki', 'Felix Cartal', 'Transviolet', 'Coasts', 'The 1975', 'Hudson Taylor', 'AJR', 'Hunter and The Bear', 'Bad Suns', 'Christian Burghardt', 'Coleman Hell', 'Strange Talk', 'MØ', 'Macy Kate', 'Little Fevers', 'Sleeper Agent', 'ATTLAS', 'Saint Motel', 'Zedd', 'John Splithoff', 'Half Moon Run', 'Gjan', 'Lights', 'Noah Kahan', 'Jaymes Young', 'Louis The Child', 'Marianas Trench', 'Hellberg', 'Prince Fox', 'Sara Bareilles', 'Yoe Mase', 'Winters Island', 'Gallant', 'Klingande', 'Little Daylight', 'North of Nine', 'Hotspur', 'Fakear', 'CRUISR', 'The Cinematic Orchestra', 'Mat Kearney', 'The Knocks', 'Chelsea Cutler', 'The Chainsmokers', 'Hozier', 'Issues', 'Glass Face', 'High Highs', 'Violet Hill', 'Ingrid Michaelson', 'Lost Kings', 'Meg Myers', 'Veorra', 'Finding Hope', 'AWOLNATION', 'Royal Blood', 'Ghastly', 'Zayde Wølf', 'Wild Belle', 'FRENSHIP', 'Skrux', 'The Brinks', 'Jon Bellion', 'Vinyl Theatre', 'MUNA', 'Twin Wild', 'Greg Laswell', \"The Mowgli's\", \"Rag'n'Bone Man\", 'The Strumbellas', 'Zerbin', 'Milky Chance', 'Tritonal', 'The Head and the Heart', 'MisterWives', 'Seafret', 'Ricky Mears', 'ODESZA', 'The Notionaries', 'Sir Sly', 'Edward Sharpe & The Magnetic Zeros', 'Lisa Mitchell', 'Two Door Cinema Club', 'Kari Kimmel', 'Wolf Colony', 'Metavari', 'Lauv', 'Claire Wright', 'Bryce Vine', 'Parade of Lights', 'Band of Horses', 'Atlas Genius', 'Harrison Brome', 'NDS', 'Cage The Elephant', 'Feint', 'OMFG', 'Flux Pavilion', 'The Lumineers', 'Hollow Coves', 'firekid', 'Julia Stone', 'Paul Conrad', 'NOËP', 'Audien', 'FLETCHER', 'Digital Daggers', 'Matisse & Sadko', 'Family of the Year', 'Youngr', 'Danyka Nadeau', 'Placebo', 'EXGF', 'The Wombats', 'The Weeknd', 'Aaron Carter', 'Fred V & Grafix', 'Garrett Garfield', 'Autograf', 'Milo Greene', 'Clairity', 'Culture Code', 'Imagine Dragons', 'Quinn XCII', 'The Hearts', 'Bishop Briggs', 'William Bolton', 'Hembree', 'Paramore', 'Brandyn Burnette', 'Hoodie Allen', 'Kiri T', 'Joel Adams', 'José González', 'Crash Land', 'Forever The Sickest Kids', 'Halsey', 'Cold War Kids', 'Sarah Close', 'Opposite the Other', 'Twin Shadow', 'Bleachers', 'Cheerleader', 'LANY', 'Lee DeWyze', 'Dagny', 'Shawn Hook', 'Walk Off the Earth', 'Russ', 'Just Chillax', 'Rachel Taylor', 'Colton Dixon', 'blackbear', 'X Ambassadors', 'MORTEN', 'Mako', 'Prelow', 'Landon Austin', 'Divided By Friday', \"Oh Snap It's Luke!\", 'Melanie Martinez', 'Shawn Mendes', 'Raiden', 'machineheart', 'Smallpools', 'The Province', 'Joachim Pastor', 'The Airborne Toxic Event', 'The Hunts', 'Snakehips', 'Kaskade', 'Kings Kaleidoscope', 'Leon Else', 'Us The Duo', 'MAX', 'A Day To Remember', 'New Found Glory', 'Morgan Page', 'Conor Oberst', 'Avicii', 'Cheat Codes', 'Incubus', 'Dillon Francis', 'Lily & Madeleine', 'Portugal. The Man', 'WALK THE MOON', 'Eppic', 'Kanye West', 'Emile Haynie', 'Japanese Wallpaper', 'St. Lucia', 'Michl', 'Polarheart', 'Jane XØ', 'Seven Lions', 'Tove Lo', 'Dresses', 'Of Monsters and Men', 'Iron & Wine', 'Lulleaux', 'AREA21', 'XYLØ', 'Novo Amor', 'Hendersin', 'Lonely The Brave', 'Laura Brehm', 'James Newton Howard', 'Living in Fiction', 'Night Riots', 'Colin & Caroline', 'TRACE', 'Benjamin Francis Leftwich', 'Didrick', 'Allie X', 'Frank Pole', 'Aquilo', 'Sew Intricate', 'Vanic', 'Francesca Battistelli', 'Timeflies', 'Faul & Wad Ad', 'Tülpa & BLANKTS', 'Kitty', 'Steve James', 'Gavin James', 'Danny Gokey', 'Krewella', 'Twenty One Pilots', 'James Arthur', 'Echosmith', 'K.Flay', 'Kiiara', 'Coyote Kisses', 'Elephante', 'Phillip Phillips', 'Ember Island', 'EDEN', 'Cemetery Sun', 'Charli XCX', 'Taylor Swift', 'Ryder', 'Frank Walker', 'W. Darling', 'The Unlikely Candidates', 'Relient K', 'G-Eazy', 'Elle King', 'Florence + The Machine', 'Justin Bieber', 'Two Friends', 'Charlotte Lawrence', 'Alex & Sierra', 'Danny Olson', 'Burn Water', 'Lord Huron', 'Willa', 'Troye Sivan', 'Scott Helman', 'Cider Sky', 'Abstract', 'Phosphorescent', 'DREAMERS', 'Lady Antebellum', 'In The Valley Below', 'Kill Paris', 'Machine Gun Kelly', 'Whethan', 'Amy Shark', 'Ben Howard', 'Hailee Steinfeld', 'Alessia Cara', 'Flume', 'We Were Promised Jetpacks', 'Martin Garrix', 'Wafia', 'Lukas Graham', 'RaeLynn', 'Hugh', 'Tove Styrke', 'The Cab', 'Silversun Pickups', 'Subtact', 'Stephen', 'Lostboycrow', 'Johnnyswim', 'Keaton Henson', 'NIHILS', 'Panic! At The Disco', '3LAU', 'Sia', 'filous', 'WILDES', 'Greta Stanley', 'Lorde', 'BØRNS', 'Tim McMorris', 'Wolf Alice', 'Taylor Phelan', 'The Script', 'Banks', 'Pierce Fulton', 'NF', 'Jarryd James', 'Augustines', 'Cash Cash', 'AFI', 'Glades', 'Rise Against', 'SHY Martin', 'Tiësto', 'Logic', 'Rain Man', 'Hayden James', 'Feki', 'Animal Kingdom', 'The Ready Set', 'Misun', 'Wild Party', 'Broods', 'Matoma', 'Oh Wonder', 'BUNT.', 'Royal Teeth', 'Jack Garratt', 'Skylar Grey', 'Cape Cub', 'Bastille', 'Coucheron', 'Kina Grannis', 'Cooper', 'Halcyon Drive', 'Blind Pilot', 'Julie Bergan', 'GOLDHOUSE', 'BRYCE', 'Mike Posner', 'Brick + Mortar', 'John Mark McMillan', 'Big Gigantic', 'Lif3blood', 'Death Cab for Cutie', 'Panama Wedding', 'Sigrid', 'Young Rising Sons', 'Oh, Be Clever', 'A Great Big World', 'Sam Bruno', 'Water Color', 'Calvin Harris', 'The Him', 'Kygo', 'Illenium', 'Borgeous', 'WILD', 'Courage My Love', 'Majik', 'RedMoon', 'Sound Remedy', 'Catfish and the Bottlemen', 'Karmin', 'Bahari', 'Vance Joy', 'Mark Johns', 'Jared & The Mill', 'Zella Day', 'Blitz Kids', 'Big Wild', 'Loote', 'Louis Vivet', 'Metric', 'CHVRCHES', 'Mumford & Sons', 'Wingtip', 'POWERS', 'Galantis', 'Said the Sky', 'Lilly Wood and The Prick', 'Ark Patrol', 'Pvris', 'Wish I Was', 'Billie Eilish', 'Interpol', 'TRACES', 'Charlotte OC', 'Vindata', 'The Vamps', 'Foxes', 'Ellen Swartz', 'Lost Frequencies', 'Sander van Doorn'}\n"
     ]
    }
   ],
   "source": [
    "artist_names = []\n",
    "results = spotify.current_user_saved_tracks()\n",
    "for item in results[\"items\"]:\n",
    "        track = item[\"track\"]\n",
    "        artist_names.append(track[\"artists\"][0][\"name\"])\n",
    "        \n",
    "while results[\"next\"]:\n",
    "    for item in results[\"items\"]:\n",
    "        track = item[\"track\"]\n",
    "        artist_names.append(track[\"artists\"][0][\"name\"])\n",
    "    results = spotify.next(results)\n",
    "    \n",
    "print(set(artist_names))"
   ]
  },
  {
   "cell_type": "code",
   "execution_count": 71,
   "metadata": {},
   "outputs": [],
   "source": [
    "setOfArtists = set(artist_names)\n",
    "\n",
    "newReleases = spotify.new_releases(\"US\")\n",
    "\n",
    "songsToCheckOut = []\n",
    "\n",
    "aritstsInNewReleases = []\n",
    "\n",
    "while newReleases[\"albums\"][\"next\"]:\n",
    "    for release in newReleases[\"albums\"][\"items\"]:\n",
    "        if(release[\"album_type\"] == \"album\"):\n",
    "            album = spotify.album(release[\"id\"])\n",
    "            i = 0\n",
    "            for track in album[\"tracks\"][\"items\"]:\n",
    "                weLikeArtist = False\n",
    "                for artist in release[\"artists\"]:\n",
    "                    artistsInNewReleases.append(artist[\"name\"])\n",
    "                    if artist[\"name\"] in setOfArtists:\n",
    "                        weLikeArtist = True\n",
    "                        break\n",
    "\n",
    "                if weLikeArtist:\n",
    "                    songsToCheckOut.append(track)\n",
    "\n",
    "\n",
    "\n",
    "        if(release[\"album_type\"] == \"single\"):\n",
    "            for artist in release[\"artists\"]:\n",
    "                artistsInNewReleases.append(artist[\"name\"])\n",
    "                weLikeArtist = False\n",
    "                if artist[\"name\"] in setOfArtists:\n",
    "                    weLikeArtist = True\n",
    "                    break\n",
    "\n",
    "                if weLikeArtist:\n",
    "                    songsToCheckOut.append(track)\n",
    "    newReleases = spotify.next(newReleases[\"albums\"])"
   ]
  },
  {
   "cell_type": "code",
   "execution_count": 69,
   "metadata": {
    "scrolled": true
   },
   "outputs": [
    {
     "name": "stdout",
     "output_type": "stream",
     "text": [
      "5qN4HFkapdAOV94XPryVof\n",
      "3GCdLUSnKSMJhs4Tj6CV3s\n",
      "4LmAnpjlhWTahvRkYR8xJa\n",
      "5jyyPsIGM2yqkZN9R3TmvN\n",
      "7bUcBztfGqO7cSI2gMZeCI\n",
      "0DJBgBiYeSn6n1AXAkFVE8\n",
      "2tPcTFiQF9MbVUyjZ3zDhA\n",
      "4KXwFI9pgJLpUIAc9oSL8j\n",
      "1eLSF6HfrRA0AsNmTkUlKx\n",
      "4FpfU1O7WCLBnmwu5XAFk4\n",
      "76iVOVsliCHlWqKuDnCfhE\n",
      "35cOyocq8Gb6UcT0NWeTwn\n",
      "5cXg9IQS34FzLVdHhp7hu7\n",
      "77UjLW8j5UAGAGVGhR5oUK\n",
      "4w9TBRGhvbhiLQB8jVCusl\n",
      "3QRqzF6rX9nZbTGQvBU5bN\n",
      "11IJA30efHAJLO3qroPh5L\n",
      "7CaMg2X1GlydFAVLaAJgeI\n",
      "29iHI9FTSHeC4x4ZUnU5Id\n",
      "4fnn4UOaflXcL764UssrPA\n",
      "1mIfeqRZCPg4xPqCPaNM3N\n",
      "3qUL9PoPgGSGQzZ9Pj4FFC\n",
      "3rCKiMUVa3YXsEIbWvedPX\n",
      "0WVOvueWnsUYLHzXHguU1J\n",
      "6Eb9Ry9jYIHlsFXudEbkog\n",
      "5HWpx5Pjj9wFROhreH612d\n",
      "4WyDmwmeBdrGgJEQquZfz3\n",
      "6SWJJP7Xc9zCcuiHl69Uvh\n",
      "6yE6AL3D5lq25jtTAESkVu\n",
      "2o2RDduVgudcGSLrFaV1D0\n",
      "6RwLKfndAAn4vr1AjN3UYd\n",
      "4Zpq56sTzSWbeO03WL6XBp\n",
      "2QMtqF1I0fpP3ECAhbsdAw\n",
      "6J3qnb7R9JnnnYZIHrz5QN\n",
      "3AwF0aNIU9IxrYtUNTDjJG\n",
      "5GTNe93RTt8wnp0mHQq2ls\n",
      "0RnqfQ9aCKws6CoKZ2wujw\n",
      "2Vug23GUUyWKAjUGw5DTzZ\n",
      "4hUxQfRaK656gV4CYotlzZ\n",
      "07aoeq0bA6MWlOVvom2Apy\n",
      "4SwkyGdhkMliRIvXhyBtXh\n",
      "1sJHtRRWVhocg5K3fiFshO\n",
      "1zH8mf9oWlvKfmQkoKJCeI\n",
      "3Sb00T4xSgpf2ulk3ektvG\n",
      "4JNTPGHcuinAxVL9TSjzRJ\n",
      "3J0uQOnAmuP7EG3Acn9K88\n",
      "6YZlG1hGd5O1gTIku7X92Y\n",
      "2IL1KIe93N6rAJFDPbzDoE\n",
      "6QDeVUAQ8d9mYF2MEFnDXM\n",
      "6VinaPCe75nBRe5ipVtAoS\n",
      "1nFJ37WK2LEDOozpNnggRm\n",
      "6SLMTAa1cStX2B7rUNdMpJ\n",
      "7CaptMuaWghyNTinlE54pQ\n",
      "5SwAF50khW6yadEw6cQaAP\n",
      "5743xMYXTQJvCIIiSRTXTZ\n",
      "4IWBM3QbriYkFLVrIBAHwx\n",
      "7yKRfKppKVW3MdhRbGHtI0\n",
      "2dua8jWJY9wZ0y5Y5I7bhG\n",
      "6pPPm7T9JJOGdfjCTct54l\n",
      "5b7dneE3n3E6STLGvTbqbr\n",
      "7EkMIQ2PzEzwQroLl6dUvw\n",
      "3jZihewg1kioufCyUKhm7w\n",
      "1C0wUTyX5wZA4AbZaZfZAB\n",
      "35PyN97gilboEXCn2HdzQa\n",
      "3qXvTE8lZCCO5192IBxRwB\n",
      "4z3eCIpMNMqy02VbRaWTRz\n",
      "7siokedVFaQOmRvAIwdmML\n",
      "2ff11wPbkImzyEgaa2gcWC\n",
      "4C6hHVesd2mKLV4AfB6rEI\n",
      "1Xh7xbUekINaL4c5CuAXEq\n",
      "02Q3owlEjrUIrQv8Jq7qhl\n",
      "2LFS8fqb2qjJjbTRvvkZo7\n",
      "0oa3sNu18nvYTKM02dbKzD\n",
      "1JetSIvdKkoH3yS9uL0X8z\n",
      "2EF8afqZ0tMQH6KgBS7ZXe\n",
      "2mf1Bsgb7XxrM8enbb1MPP\n",
      "5yEkipsHihOk4zUN5gjn3w\n",
      "4DPcp6xS12dhajIzkWiea6\n",
      "63eoKDlvWp0aAFH8CJXoSG\n",
      "3tpB406UcLxAKAZMXMHlpY\n",
      "1tmDa0FhMn8XSOpEJbVu25\n",
      "1QBOH8W1ZhRoTOoHvfaZn7\n",
      "5zC1NaCQeETz5b0IysG5Ub\n",
      "44478ajpb5DPFaWVDbKSPp\n",
      "7MTsaNHz8evXD32xLjfjDu\n",
      "1J7U9B8nPjKrLL7xDZ56F2\n",
      "5Zp2xpSwgUyHVtGJZ31kZ1\n",
      "5RQdeW1apwe934zbntXROv\n",
      "4gD4ja2LvNDfCK8yeyXJwo\n"
     ]
    },
    {
     "data": {
      "text/plain": [
       "89"
      ]
     },
     "execution_count": 69,
     "metadata": {},
     "output_type": "execute_result"
    }
   ],
   "source": [
    "#Need to add an extra array around track id's because in python strings are also iterable!!\n",
    "for track in songsToCheckOut:\n",
    "    print(track[\"id\"])\n",
    "    spotify.user_playlist_add_tracks(\"1287242681\",\"7jJlxdsTsIE999N1FwrBNF\", [track[\"id\"]])\n",
    "len(songsToCheckOut)"
   ]
  }
 ],
 "metadata": {
  "kernelspec": {
   "display_name": "Python 3",
   "language": "python",
   "name": "python3"
  },
  "language_info": {
   "codemirror_mode": {
    "name": "ipython",
    "version": 3
   },
   "file_extension": ".py",
   "mimetype": "text/x-python",
   "name": "python",
   "nbconvert_exporter": "python",
   "pygments_lexer": "ipython3",
   "version": "3.5.2"
  }
 },
 "nbformat": 4,
 "nbformat_minor": 2
}
