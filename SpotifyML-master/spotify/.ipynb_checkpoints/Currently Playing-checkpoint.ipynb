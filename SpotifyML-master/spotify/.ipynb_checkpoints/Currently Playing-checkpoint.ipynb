{
 "cells": [
  {
   "cell_type": "code",
   "execution_count": 4,
   "metadata": {
    "collapsed": true
   },
   "outputs": [],
   "source": [
    "import pandas as pd \n",
    "import spotipy\n",
    "import spotipy.util as util\n",
    "sp = spotipy.Spotify() \n",
    "from spotipy.oauth2 import SpotifyClientCredentials \n",
    "from random import randint\n",
    "\n",
    "cid =\"0cadd882a6ab4ff485c80b8b02aa3b0c\" \n",
    "secret = \"04d0f737e18a4a92abee1da25d70766b\" \n",
    "client_credentials_manager = SpotifyClientCredentials(client_id=cid, client_secret=secret) \n",
    "sp = spotipy.Spotify(client_credentials_manager=client_credentials_manager) \n",
    "sp.trace=False "
   ]
  },
  {
   "cell_type": "code",
   "execution_count": 6,
   "metadata": {},
   "outputs": [
    {
     "name": "stdout",
     "output_type": "stream",
     "text": [
      "7\n"
     ]
    }
   ],
   "source": [
    "username = \"\"\n",
    "scope = 'user-library-read playlist-read-private'\n",
    "token = util.prompt_for_user_token(username, scope)\n",
    "\n",
    "if token:\n",
    "    sp = spotipy.Spotify(auth=token)\n",
    "else:\n",
    "    print(\"Can't get token for\", username)\n",
    "    \n",
    "human_likes = sp.user_playlist(\"1287242681\", \"4alCqRkf8jIDAaeQlPapE8\")\n",
    "machine_likes = sp.user_playlist(\"1287242681\", \"7eIX1zvtpZR3M3rYFVA7DF\")\n",
    "\n",
    "human_tracks = human_likes[\"tracks\"]\n",
    "machine_tracks = machine_likes['tracks']\n",
    "print(len(human_tracks))\n",
    "for track in human_tracks['items']:\n",
    "    for machine_track in machine_tracks['items']:\n",
    "        if (track['track']['name'], machine_track['track']['name']) == 0:\n",
    "            print(track['track']['name']+\" by: \"+machine_track['track']['artists'][0]['name'])"
   ]
  }
 ],
 "metadata": {
  "kernelspec": {
   "display_name": "Python 3",
   "language": "python",
   "name": "python3"
  },
  "language_info": {
   "codemirror_mode": {
    "name": "ipython",
    "version": 3
   },
   "file_extension": ".py",
   "mimetype": "text/x-python",
   "name": "python",
   "nbconvert_exporter": "python",
   "pygments_lexer": "ipython3",
   "version": "3.6.1"
  }
 },
 "nbformat": 4,
 "nbformat_minor": 2
}
